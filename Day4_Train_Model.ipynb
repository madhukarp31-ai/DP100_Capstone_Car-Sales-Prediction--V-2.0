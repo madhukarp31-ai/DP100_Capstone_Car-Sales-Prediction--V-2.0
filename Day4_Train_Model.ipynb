{
  "cells": [
    {
      "cell_type": "code",
      "source": [
        "from azure.ai.ml import MLClient\n",
        "from azure.identity import DefaultAzureCredential\n",
        "from azure.ai.ml.entities import AmlCompute, Environment, Job\n",
        "from azure.ai.ml import command\n",
        "\n",
        "import pandas as pd\n"
      ],
      "outputs": [],
      "execution_count": 2,
      "metadata": {
        "gather": {
          "logged": 1754534272173
        }
      }
    },
    {
      "cell_type": "code",
      "source": [
        "from azure.ai.ml import MLClient\n",
        "from azure.identity import DefaultAzureCredential\n",
        "\n",
        "# Azure ML workspace details\n",
        "subscription_id = \"19209592-5fb7-44f5-b480-296bb2226284\"\n",
        "resource_group = \"ml-rg\"\n",
        "workspace = \"ml-workspace\"\n",
        "\n",
        "# Connect to Azure ML workspace\n",
        "ml_client = MLClient(\n",
        "    credential=DefaultAzureCredential(),\n",
        "    subscription_id=subscription_id,\n",
        "    resource_group_name=resource_group,\n",
        "    workspace_name=workspace\n",
        ")\n"
      ],
      "outputs": [],
      "execution_count": 3,
      "metadata": {
        "gather": {
          "logged": 1754534274352
        }
      }
    },
    {
      "cell_type": "code",
      "source": [
        "from azure.ai.ml.entities import Environment\n",
        "\n",
        "# Define custom environment using YAML file\n",
        "env = Environment(\n",
        "    name=\"dp100-car-env\",\n",
        "    description=\"Environment for car price prediction\",\n",
        "    conda_file=\"dp100_eda_env.yml\",  # Your custom conda YAML file\n",
        "    image=\"mcr.microsoft.com/azureml/openmpi4.1.0-ubuntu20.04\",  # Azure ML base image\n",
        ")\n"
      ],
      "outputs": [],
      "execution_count": 4,
      "metadata": {
        "gather": {
          "logged": 1754534278732
        }
      }
    },
    {
      "cell_type": "code",
      "source": [
        "from azure.ai.ml import command\n",
        "\n",
        "job = command(\n",
        "    code=\"./\",  # Folder containing train_model.py\n",
        "    command=\"python train_model.py\",\n",
        "    environment=\"dp100-eda-env:1\",  # Ensure version is correct\n",
        "    compute=\"dp100-compute\",  # ✅ Use your actual compute cluster name\n",
        "    display_name=\"car-price-training-exp\",\n",
        "    experiment_name=\"dp100-model-training\"\n",
        ")\n"
      ],
      "outputs": [],
      "execution_count": 5,
      "metadata": {
        "gather": {
          "logged": 1754534282746
        }
      }
    },
    {
      "cell_type": "code",
      "source": [
        "returned_job = ml_client.jobs.create_or_update(job)\n",
        "returned_job\n"
      ],
      "outputs": [
        {
          "output_type": "stream",
          "name": "stderr",
          "text": "Class AutoDeleteSettingSchema: This is an experimental class, and may change at any time. Please see https://aka.ms/azuremlexperimental for more information.\nClass AutoDeleteConditionSchema: This is an experimental class, and may change at any time. Please see https://aka.ms/azuremlexperimental for more information.\nClass BaseAutoDeleteSettingSchema: This is an experimental class, and may change at any time. Please see https://aka.ms/azuremlexperimental for more information.\nClass IntellectualPropertySchema: This is an experimental class, and may change at any time. Please see https://aka.ms/azuremlexperimental for more information.\nClass ProtectionLevelSchema: This is an experimental class, and may change at any time. Please see https://aka.ms/azuremlexperimental for more information.\nClass BaseIntellectualPropertySchema: This is an experimental class, and may change at any time. Please see https://aka.ms/azuremlexperimental for more information.\n\u001b[32mUploading prasadmadhukar31 (0.56 MBs): 100%|██████████| 556351/556351 [00:00<00:00, 15824880.47it/s]\n\u001b[39m\n\n"
        },
        {
          "output_type": "execute_result",
          "execution_count": 6,
          "data": {
            "text/plain": "Command({'parameters': {}, 'init': False, 'name': 'orange_cloud_zyl2p13l9d', 'type': 'command', 'status': 'Starting', 'log_files': None, 'description': None, 'tags': {}, 'properties': {'_azureml.ComputeTargetType': 'amlcdsi', '_azureml.ClusterName': 'dp100-compute', 'ContentSnapshotId': '38173853-4211-4cd6-9ef3-cc3d875a02d4'}, 'print_as_yaml': False, 'id': '/subscriptions/19209592-5fb7-44f5-b480-296bb2226284/resourceGroups/ml-rg/providers/Microsoft.MachineLearningServices/workspaces/ml-workspace/jobs/orange_cloud_zyl2p13l9d', 'Resource__source_path': '', 'base_path': '/mnt/batch/tasks/shared/LS_root/mounts/clusters/dp100-compute/code/Users/prasadmadhukar31', 'creation_context': <azure.ai.ml.entities._system_data.SystemData object at 0x7c5c350e8700>, 'serialize': <msrest.serialization.Serializer object at 0x7c5c350ea290>, 'allowed_keys': {}, 'key_restriction': False, 'logger': <Logger attr_dict (WARNING)>, 'display_name': 'car-price-training-exp', 'experiment_name': 'dp100-model-training', 'compute': 'dp100-compute', 'services': {'Tracking': {'endpoint': 'azureml://eastus.api.azureml.ms/mlflow/v1.0/subscriptions/19209592-5fb7-44f5-b480-296bb2226284/resourceGroups/ml-rg/providers/Microsoft.MachineLearningServices/workspaces/ml-workspace?', 'type': 'Tracking'}, 'Studio': {'endpoint': 'https://ml.azure.com/runs/orange_cloud_zyl2p13l9d?wsid=/subscriptions/19209592-5fb7-44f5-b480-296bb2226284/resourcegroups/ml-rg/workspaces/ml-workspace&tid=ffd1a212-504f-4d26-8c3f-b42581a11d18', 'type': 'Studio'}}, 'comment': None, 'job_inputs': {}, 'job_outputs': {'default': {'type': 'uri_folder', 'path': 'azureml://datastores/workspaceartifactstore/ExperimentRun/dcid.orange_cloud_zyl2p13l9d', 'mode': 'rw_mount'}}, 'inputs': {}, 'outputs': {'default': <azure.ai.ml.entities._job.pipeline._io.base.NodeOutput object at 0x7c5c350e92a0>}, 'component': CommandComponent({'latest_version': None, 'intellectual_property': None, 'auto_increment_version': True, 'source': 'REMOTE.WORKSPACE.JOB', 'is_anonymous': False, 'auto_delete_setting': None, 'name': 'orange_cloud_zyl2p13l9d', 'description': None, 'tags': {}, 'properties': {}, 'print_as_yaml': False, 'id': None, 'Resource__source_path': None, 'base_path': '/mnt/batch/tasks/shared/LS_root/mounts/clusters/dp100-compute/code/Users/prasadmadhukar31', 'creation_context': <azure.ai.ml.entities._system_data.SystemData object at 0x7c5c350e8700>, 'serialize': <msrest.serialization.Serializer object at 0x7c5c350e8040>, 'command': 'python train_model.py', 'code': '/subscriptions/19209592-5fb7-44f5-b480-296bb2226284/resourceGroups/ml-rg/providers/Microsoft.MachineLearningServices/workspaces/ml-workspace/codes/da74c437-0555-4d3e-8dd6-517076f32dd1/versions/1', 'environment_variables': {}, 'environment': '/subscriptions/19209592-5fb7-44f5-b480-296bb2226284/resourceGroups/ml-rg/providers/Microsoft.MachineLearningServices/workspaces/ml-workspace/environments/dp100-eda-env/versions/1', 'distribution': None, 'resources': None, 'queue_settings': None, 'version': None, 'schema': None, 'type': 'command', 'display_name': 'car-price-training-exp', 'is_deterministic': True, 'inputs': {}, 'outputs': {'default': {'type': 'uri_folder', 'path': 'azureml://datastores/workspaceartifactstore/ExperimentRun/dcid.orange_cloud_zyl2p13l9d', 'mode': 'rw_mount'}}, 'yaml_str': None, 'other_parameter': {'status': 'Starting', 'parameters': {}}, 'additional_includes': []}), 'referenced_control_flow_node_instance_id': None, 'kwargs': {'services': {'Tracking': {'endpoint': 'azureml://eastus.api.azureml.ms/mlflow/v1.0/subscriptions/19209592-5fb7-44f5-b480-296bb2226284/resourceGroups/ml-rg/providers/Microsoft.MachineLearningServices/workspaces/ml-workspace?', 'type': 'Tracking'}, 'Studio': {'endpoint': 'https://ml.azure.com/runs/orange_cloud_zyl2p13l9d?wsid=/subscriptions/19209592-5fb7-44f5-b480-296bb2226284/resourcegroups/ml-rg/workspaces/ml-workspace&tid=ffd1a212-504f-4d26-8c3f-b42581a11d18', 'type': 'Studio'}}, 'status': 'Starting', 'creation_context': <azure.ai.ml.entities._system_data.SystemData object at 0x7c5c350e8700>}, 'instance_id': 'eabf35c9-2d2a-48bb-ac9f-f8c3482e6b1c', 'source': 'BUILDER', 'validate_required_input_not_provided': True, 'limits': None, 'identity': None, 'distribution': None, 'environment_variables': {}, 'environment': 'dp100-eda-env:1', 'resources': {'instance_count': 1, 'shm_size': '2g'}, 'queue_settings': {'job_tier': 'null'}, 'parent_job_name': None, 'swept': False})",
            "text/html": "<table style=\"width:100%\"><tr><th>Experiment</th><th>Name</th><th>Type</th><th>Status</th><th>Details Page</th></tr><tr><td>dp100-model-training</td><td>orange_cloud_zyl2p13l9d</td><td>command</td><td>Starting</td><td><a href=\"https://ml.azure.com/runs/orange_cloud_zyl2p13l9d?wsid=/subscriptions/19209592-5fb7-44f5-b480-296bb2226284/resourcegroups/ml-rg/workspaces/ml-workspace&amp;tid=ffd1a212-504f-4d26-8c3f-b42581a11d18\" target=\"_blank\" rel=\"noopener\">Link to Azure Machine Learning studio</a></td></tr></table>"
          },
          "metadata": {}
        }
      ],
      "execution_count": 6,
      "metadata": {
        "gather": {
          "logged": 1754534294695
        }
      }
    },
    {
      "cell_type": "code",
      "source": [
        "ml_client.jobs.stream(returned_job.name)\n"
      ],
      "outputs": [
        {
          "output_type": "stream",
          "name": "stdout",
          "text": "RunId: orange_cloud_zyl2p13l9d\nWeb View: https://ml.azure.com/runs/orange_cloud_zyl2p13l9d?wsid=/subscriptions/19209592-5fb7-44f5-b480-296bb2226284/resourcegroups/ml-rg/workspaces/ml-workspace\n\nExecution Summary\n=================\nRunId: orange_cloud_zyl2p13l9d\nWeb View: https://ml.azure.com/runs/orange_cloud_zyl2p13l9d?wsid=/subscriptions/19209592-5fb7-44f5-b480-296bb2226284/resourcegroups/ml-rg/workspaces/ml-workspace\n\n"
        }
      ],
      "execution_count": 7,
      "metadata": {
        "gather": {
          "logged": 1754534348538
        }
      }
    },
    {
      "cell_type": "code",
      "source": [
        "https://ml.azure.com/runs/orange_cloud_zyl2p1319d\n"
      ],
      "outputs": [],
      "execution_count": null,
      "metadata": {}
    },
    {
      "cell_type": "code",
      "source": [
        "import pandas as pd\n",
        "from sklearn.linear_model import LinearRegression\n",
        "from sklearn.preprocessing import LabelEncoder\n",
        "\n",
        "# Load the dataset\n",
        "df = pd.read_csv('cleaned_car_sales.csv')\n",
        "\n",
        "# Label encode any categorical columns\n",
        "le = LabelEncoder()\n",
        "for col in df.columns:\n",
        "    if df[col].dtype == 'object':\n",
        "        df[col] = le.fit_transform(df[col])\n",
        "\n",
        "# Split into features and label\n",
        "X = df.drop('Price', axis=1)\n",
        "y = df['Price']\n",
        "\n",
        "# Train the model\n",
        "model = LinearRegression()\n",
        "model.fit(X, y)\n",
        "\n",
        "print(\"✅ Model trained successfully\")\n"
      ],
      "outputs": [
        {
          "output_type": "stream",
          "name": "stdout",
          "text": "✅ Model trained successfully\n"
        }
      ],
      "execution_count": 13,
      "metadata": {
        "gather": {
          "logged": 1754535338542
        }
      }
    },
    {
      "cell_type": "code",
      "source": [
        "import joblib\n",
        "\n",
        "# Save the trained model to a file\n",
        "joblib.dump(model, 'car_price_model.pkl')\n",
        "\n",
        "print(\"✅ Model saved as car_price_model.pkl\")\n"
      ],
      "outputs": [
        {
          "output_type": "stream",
          "name": "stdout",
          "text": "✅ Model saved as car_price_model.pkl\n"
        }
      ],
      "execution_count": 14,
      "metadata": {
        "gather": {
          "logged": 1754535392411
        }
      }
    }
  ],
  "metadata": {
    "kernelspec": {
      "name": "python310-sdkv2",
      "language": "python",
      "display_name": "Python 3.10 - SDK v2"
    },
    "language_info": {
      "name": "python",
      "version": "3.10.18",
      "mimetype": "text/x-python",
      "codemirror_mode": {
        "name": "ipython",
        "version": 3
      },
      "pygments_lexer": "ipython3",
      "nbconvert_exporter": "python",
      "file_extension": ".py"
    },
    "microsoft": {
      "ms_spell_check": {
        "ms_spell_check_language": "en"
      },
      "host": {
        "AzureML": {
          "notebookHasBeenCompleted": true
        }
      }
    },
    "kernel_info": {
      "name": "python310-sdkv2"
    },
    "nteract": {
      "version": "nteract-front-end@1.0.0"
    }
  },
  "nbformat": 4,
  "nbformat_minor": 2
}