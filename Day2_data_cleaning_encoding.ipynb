{
  "cells": [
    {
      "cell_type": "code",
      "source": [
        "import pandas as pd\n",
        "import numpy as np\n",
        "from sklearn.preprocessing import LabelEncoder\n"
      ],
      "outputs": [],
      "execution_count": 1,
      "metadata": {
        "gather": {
          "logged": 1754202948458
        }
      }
    },
    {
      "cell_type": "code",
      "source": [
        "df = pd.read_csv(\"car_sales.csv\")\n",
        "df.head()\n"
      ],
      "outputs": [
        {
          "output_type": "execute_result",
          "execution_count": 2,
          "data": {
            "text/plain": "   Unnamed: 0 Manufacturer    Model     Type  Min.Price  Price  Max.Price  \\\n0           1        Acura  Integra    Small       12.9   15.9       18.8   \n1           2        Acura   Legend  Midsize       29.2   33.9       38.7   \n2           3         Audi       90  Compact       25.9   29.1       32.3   \n3           4         Audi      100  Midsize       30.8   37.7       44.6   \n4           5          BMW     535i  Midsize       23.7   30.0       36.2   \n\n   MPG.city  MPG.highway             AirBags  ... Passengers Length  \\\n0        25           31                None  ...          5    177   \n1        18           25  Driver & Passenger  ...          5    195   \n2        20           26         Driver only  ...          5    180   \n3        19           26  Driver & Passenger  ...          6    193   \n4        22           30         Driver only  ...          4    186   \n\n   Wheelbase  Width  Turn.circle  Rear.seat.room Luggage.room  Weight  \\\n0        102     68           37            26.5         11.0    2705   \n1        115     71           38            30.0         15.0    3560   \n2        102     67           37            28.0         14.0    3375   \n3        106     70           37            31.0         17.0    3405   \n4        109     69           39            27.0         13.0    3640   \n\n    Origin           Make  \n0  non-USA  Acura Integra  \n1  non-USA   Acura Legend  \n2  non-USA        Audi 90  \n3  non-USA       Audi 100  \n4  non-USA       BMW 535i  \n\n[5 rows x 28 columns]",
            "text/html": "<div>\n<style scoped>\n    .dataframe tbody tr th:only-of-type {\n        vertical-align: middle;\n    }\n\n    .dataframe tbody tr th {\n        vertical-align: top;\n    }\n\n    .dataframe thead th {\n        text-align: right;\n    }\n</style>\n<table border=\"1\" class=\"dataframe\">\n  <thead>\n    <tr style=\"text-align: right;\">\n      <th></th>\n      <th>Unnamed: 0</th>\n      <th>Manufacturer</th>\n      <th>Model</th>\n      <th>Type</th>\n      <th>Min.Price</th>\n      <th>Price</th>\n      <th>Max.Price</th>\n      <th>MPG.city</th>\n      <th>MPG.highway</th>\n      <th>AirBags</th>\n      <th>...</th>\n      <th>Passengers</th>\n      <th>Length</th>\n      <th>Wheelbase</th>\n      <th>Width</th>\n      <th>Turn.circle</th>\n      <th>Rear.seat.room</th>\n      <th>Luggage.room</th>\n      <th>Weight</th>\n      <th>Origin</th>\n      <th>Make</th>\n    </tr>\n  </thead>\n  <tbody>\n    <tr>\n      <th>0</th>\n      <td>1</td>\n      <td>Acura</td>\n      <td>Integra</td>\n      <td>Small</td>\n      <td>12.9</td>\n      <td>15.9</td>\n      <td>18.8</td>\n      <td>25</td>\n      <td>31</td>\n      <td>None</td>\n      <td>...</td>\n      <td>5</td>\n      <td>177</td>\n      <td>102</td>\n      <td>68</td>\n      <td>37</td>\n      <td>26.5</td>\n      <td>11.0</td>\n      <td>2705</td>\n      <td>non-USA</td>\n      <td>Acura Integra</td>\n    </tr>\n    <tr>\n      <th>1</th>\n      <td>2</td>\n      <td>Acura</td>\n      <td>Legend</td>\n      <td>Midsize</td>\n      <td>29.2</td>\n      <td>33.9</td>\n      <td>38.7</td>\n      <td>18</td>\n      <td>25</td>\n      <td>Driver &amp; Passenger</td>\n      <td>...</td>\n      <td>5</td>\n      <td>195</td>\n      <td>115</td>\n      <td>71</td>\n      <td>38</td>\n      <td>30.0</td>\n      <td>15.0</td>\n      <td>3560</td>\n      <td>non-USA</td>\n      <td>Acura Legend</td>\n    </tr>\n    <tr>\n      <th>2</th>\n      <td>3</td>\n      <td>Audi</td>\n      <td>90</td>\n      <td>Compact</td>\n      <td>25.9</td>\n      <td>29.1</td>\n      <td>32.3</td>\n      <td>20</td>\n      <td>26</td>\n      <td>Driver only</td>\n      <td>...</td>\n      <td>5</td>\n      <td>180</td>\n      <td>102</td>\n      <td>67</td>\n      <td>37</td>\n      <td>28.0</td>\n      <td>14.0</td>\n      <td>3375</td>\n      <td>non-USA</td>\n      <td>Audi 90</td>\n    </tr>\n    <tr>\n      <th>3</th>\n      <td>4</td>\n      <td>Audi</td>\n      <td>100</td>\n      <td>Midsize</td>\n      <td>30.8</td>\n      <td>37.7</td>\n      <td>44.6</td>\n      <td>19</td>\n      <td>26</td>\n      <td>Driver &amp; Passenger</td>\n      <td>...</td>\n      <td>6</td>\n      <td>193</td>\n      <td>106</td>\n      <td>70</td>\n      <td>37</td>\n      <td>31.0</td>\n      <td>17.0</td>\n      <td>3405</td>\n      <td>non-USA</td>\n      <td>Audi 100</td>\n    </tr>\n    <tr>\n      <th>4</th>\n      <td>5</td>\n      <td>BMW</td>\n      <td>535i</td>\n      <td>Midsize</td>\n      <td>23.7</td>\n      <td>30.0</td>\n      <td>36.2</td>\n      <td>22</td>\n      <td>30</td>\n      <td>Driver only</td>\n      <td>...</td>\n      <td>4</td>\n      <td>186</td>\n      <td>109</td>\n      <td>69</td>\n      <td>39</td>\n      <td>27.0</td>\n      <td>13.0</td>\n      <td>3640</td>\n      <td>non-USA</td>\n      <td>BMW 535i</td>\n    </tr>\n  </tbody>\n</table>\n<p>5 rows × 28 columns</p>\n</div>"
          },
          "metadata": {}
        }
      ],
      "execution_count": 2,
      "metadata": {
        "gather": {
          "logged": 1754202965238
        }
      }
    },
    {
      "cell_type": "code",
      "source": [
        "# Data types and missing values\n",
        "df.info()\n",
        "\n",
        "# Total missing values per column\n",
        "print(df.isnull().sum())\n",
        "\n",
        "# Check duplicates\n",
        "print(\"Duplicate rows:\", df.duplicated().sum())\n"
      ],
      "outputs": [
        {
          "output_type": "stream",
          "name": "stdout",
          "text": "<class 'pandas.core.frame.DataFrame'>\nRangeIndex: 93 entries, 0 to 92\nData columns (total 28 columns):\n #   Column              Non-Null Count  Dtype  \n---  ------              --------------  -----  \n 0   Unnamed: 0          93 non-null     int64  \n 1   Manufacturer        93 non-null     object \n 2   Model               93 non-null     object \n 3   Type                93 non-null     object \n 4   Min.Price           93 non-null     float64\n 5   Price               93 non-null     float64\n 6   Max.Price           93 non-null     float64\n 7   MPG.city            93 non-null     int64  \n 8   MPG.highway         93 non-null     int64  \n 9   AirBags             93 non-null     object \n 10  DriveTrain          93 non-null     object \n 11  Cylinders           93 non-null     object \n 12  EngineSize          93 non-null     float64\n 13  Horsepower          93 non-null     int64  \n 14  RPM                 93 non-null     int64  \n 15  Rev.per.mile        93 non-null     int64  \n 16  Man.trans.avail     93 non-null     object \n 17  Fuel.tank.capacity  93 non-null     float64\n 18  Passengers          93 non-null     int64  \n 19  Length              93 non-null     int64  \n 20  Wheelbase           93 non-null     int64  \n 21  Width               93 non-null     int64  \n 22  Turn.circle         93 non-null     int64  \n 23  Rear.seat.room      91 non-null     float64\n 24  Luggage.room        82 non-null     float64\n 25  Weight              93 non-null     int64  \n 26  Origin              93 non-null     object \n 27  Make                93 non-null     object \ndtypes: float64(7), int64(12), object(9)\nmemory usage: 20.5+ KB\nUnnamed: 0             0\nManufacturer           0\nModel                  0\nType                   0\nMin.Price              0\nPrice                  0\nMax.Price              0\nMPG.city               0\nMPG.highway            0\nAirBags                0\nDriveTrain             0\nCylinders              0\nEngineSize             0\nHorsepower             0\nRPM                    0\nRev.per.mile           0\nMan.trans.avail        0\nFuel.tank.capacity     0\nPassengers             0\nLength                 0\nWheelbase              0\nWidth                  0\nTurn.circle            0\nRear.seat.room         2\nLuggage.room          11\nWeight                 0\nOrigin                 0\nMake                   0\ndtype: int64\nDuplicate rows: 0\n"
        }
      ],
      "execution_count": 3,
      "metadata": {
        "gather": {
          "logged": 1754203052040
        }
      }
    },
    {
      "cell_type": "code",
      "source": [
        "# Fill missing values using mean\n",
        "df['Rear.seat.room'] = df['Rear.seat.room'].fillna(df['Rear.seat.room'].mean())\n",
        "df['Luggage.room'] = df['Luggage.room'].fillna(df['Luggage.room'].mean())\n",
        "\n",
        "# Verify missing values are gone\n",
        "print(df.isnull().sum())\n"
      ],
      "outputs": [
        {
          "output_type": "stream",
          "name": "stdout",
          "text": "Unnamed: 0            0\nManufacturer          0\nModel                 0\nType                  0\nMin.Price             0\nPrice                 0\nMax.Price             0\nMPG.city              0\nMPG.highway           0\nAirBags               0\nDriveTrain            0\nCylinders             0\nEngineSize            0\nHorsepower            0\nRPM                   0\nRev.per.mile          0\nMan.trans.avail       0\nFuel.tank.capacity    0\nPassengers            0\nLength                0\nWheelbase             0\nWidth                 0\nTurn.circle           0\nRear.seat.room        0\nLuggage.room          0\nWeight                0\nOrigin                0\nMake                  0\ndtype: int64\n"
        }
      ],
      "execution_count": 4,
      "metadata": {
        "gather": {
          "logged": 1754203426994
        }
      }
    },
    {
      "cell_type": "code",
      "source": [
        "from sklearn.preprocessing import LabelEncoder\n",
        "\n",
        "# Apply LabelEncoder to 'Make' column\n",
        "le = LabelEncoder()\n",
        "df['Make'] = le.fit_transform(df['Make'])\n"
      ],
      "outputs": [],
      "execution_count": 5,
      "metadata": {
        "gather": {
          "logged": 1754203447959
        }
      }
    },
    {
      "cell_type": "code",
      "source": [
        "# Save to cleaned CSV file\n",
        "df.to_csv(\"cleaned_car_sales.csv\", index=False)\n",
        "print(\"✅ Cleaned dataset saved as 'cleaned_car_sales.csv'\")\n"
      ],
      "outputs": [
        {
          "output_type": "stream",
          "name": "stdout",
          "text": "✅ Cleaned dataset saved as 'cleaned_car_sales.csv'\n"
        }
      ],
      "execution_count": 6,
      "metadata": {
        "gather": {
          "logged": 1754203468046
        }
      }
    }
  ],
  "metadata": {
    "kernelspec": {
      "name": "python310-sdkv2",
      "language": "python",
      "display_name": "Python 3.10 - SDK v2"
    },
    "language_info": {
      "name": "python",
      "version": "3.10.18",
      "mimetype": "text/x-python",
      "codemirror_mode": {
        "name": "ipython",
        "version": 3
      },
      "pygments_lexer": "ipython3",
      "nbconvert_exporter": "python",
      "file_extension": ".py"
    },
    "microsoft": {
      "ms_spell_check": {
        "ms_spell_check_language": "en"
      },
      "host": {
        "AzureML": {
          "notebookHasBeenCompleted": true
        }
      }
    },
    "kernel_info": {
      "name": "python310-sdkv2"
    },
    "nteract": {
      "version": "nteract-front-end@1.0.0"
    }
  },
  "nbformat": 4,
  "nbformat_minor": 2
}