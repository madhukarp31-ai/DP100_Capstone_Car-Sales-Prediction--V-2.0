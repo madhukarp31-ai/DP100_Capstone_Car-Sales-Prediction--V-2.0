{
  "cells": [
    {
      "cell_type": "code",
      "source": [
        "from azure.ai.ml import MLClient\n",
        "from azure.ai.ml.entities import Environment, ManagedOnlineDeployment, ManagedOnlineEndpoint\n",
        "from azure.identity import DefaultAzureCredential\n",
        "import datetime\n",
        "\n",
        "# Connect to Azure ML workspace\n",
        "ml_client = MLClient(\n",
        "    DefaultAzureCredential(),\n",
        "    subscription_id=\"19209592-5fb7-44f5-b480-296bb2226284\",\n",
        "    resource_group_name=\"ml-rg\",\n",
        "    workspace_name=\"ml-workspace\"\n",
        ")\n"
      ],
      "outputs": [],
      "execution_count": 1,
      "metadata": {
        "gather": {
          "logged": 1754623703746
        }
      }
    },
    {
      "cell_type": "code",
      "source": [
        "# Generate unique endpoint name using timestamp\n",
        "timestamp = datetime.datetime.now().strftime(\"%Y%m%d%H%M\")\n",
        "endpoint_name = f\"car-price-endpoint-{timestamp}\"\n",
        "print(\"✅ Endpoint name:\", endpoint_name)\n"
      ],
      "outputs": [
        {
          "output_type": "stream",
          "name": "stdout",
          "text": "✅ Endpoint name: car-price-endpoint-202508080328\n"
        }
      ],
      "execution_count": 2,
      "metadata": {
        "gather": {
          "logged": 1754623716973
        }
      }
    },
    {
      "cell_type": "code",
      "source": [
        "env = Environment(\n",
        "    name=\"dp100-inference-env\",\n",
        "    description=\"Environment for car price prediction model scoring\",\n",
        "    conda_file=\"dp100_eda_env.yml\",\n",
        "    image=\"mcr.microsoft.com/azureml/minimal-ubuntu20.04-py38-cpu-inference:latest\"\n",
        ")\n",
        "\n",
        "env = ml_client.environments.create_or_update(env)\n",
        "print(\"✅ Environment registered:\", env.name)\n"
      ],
      "outputs": [
        {
          "output_type": "stream",
          "name": "stdout",
          "text": "✅ Environment registered: dp100-inference-env\n"
        }
      ],
      "execution_count": 3,
      "metadata": {
        "gather": {
          "logged": 1754623739756
        }
      }
    },
    {
      "cell_type": "code",
      "source": [
        "# ✅ STEP 1: Import Libraries\n",
        "from azure.ai.ml import MLClient\n",
        "from azure.identity import DefaultAzureCredential\n",
        "from azure.ai.ml.entities import Environment, ManagedOnlineDeployment, ManagedOnlineEndpoint\n",
        "import datetime\n",
        "\n",
        "# ✅ STEP 2: Connect to Azure ML Workspace\n",
        "ml_client = MLClient(\n",
        "    DefaultAzureCredential(),\n",
        "    subscription_id=\"19209592-5fb7-44f5-b480-296bb2226284\",\n",
        "    resource_group_name=\"ml-rg\",\n",
        "    workspace_name=\"ml-workspace\"\n",
        ")\n",
        "\n",
        "# ✅ STEP 3: Create Unique Endpoint Name\n",
        "timestamp = datetime.datetime.now().strftime(\"%Y%m%d%H%M\")\n",
        "endpoint_name = f\"car-price-endpoint-{timestamp}\"\n",
        "print(\"✅ Endpoint name:\", endpoint_name)\n",
        "\n",
        "# ✅ STEP 4: Create the Azure ML Environment\n",
        "env = Environment(\n",
        "    name=\"dp100-inference-env\",\n",
        "    description=\"Environment for car price prediction model scoring\",\n",
        "    conda_file=\"dp100_eda_env.yml\",\n",
        "    image=\"mcr.microsoft.com/azureml/minimal-ubuntu20.04-py38-cpu-inference:latest\"\n",
        ")\n",
        "\n",
        "env = ml_client.environments.create_or_update(env)\n",
        "print(\"✅ Environment registered:\", env.name)\n",
        "\n",
        "# ✅ STEP 5: Create the Managed Online Endpoint (for ACI)\n",
        "endpoint = ManagedOnlineEndpoint(\n",
        "    name=endpoint_name,\n",
        "    description=\"Managed endpoint for car price model\",\n",
        "    auth_mode=\"key\"\n",
        ")\n",
        "\n",
        "ml_client.online_endpoints.begin_create_or_update(endpoint).result()\n",
        "print(\"✅ Endpoint created:\", endpoint.name)\n",
        "\n",
        "# ✅ STEP 6: Deploy the Model to ACI\n",
        "deployment = ManagedOnlineDeployment(\n",
        "    name=\"blue\",\n",
        "    endpoint_name=endpoint_name,\n",
        "    model=\"car_price_model:3\",  # Update version if needed\n",
        "    environment=env,\n",
        "    code_configuration={\n",
        "        \"code\": \"./\",  # assumes score.py is in current folder\n",
        "        \"scoring_script\": \"score.py\"\n",
        "    },\n",
        "    instance_type=\"Standard_DS2_v2\",\n",
        "    instance_count=1\n",
        ")\n",
        "\n",
        "ml_client.online_deployments.begin_create_or_update(deployment).result()\n",
        "print(\"✅ Deployment created: blue\")\n",
        "\n",
        "# ✅ STEP 7: Set 'blue' as default deployment\n",
        "ml_client.online_endpoints.begin_update(\n",
        "    name=endpoint_name,\n",
        "    defaults={\"deployment_name\": \"blue\"}\n",
        ").result()\n",
        "print(\"✅ Deployment set as default for endpoint\")\n",
        "\n",
        "# ✅ STEP 8: Print Endpoint URI and Access Key (for later use)\n",
        "endpoint = ml_client.online_endpoints.get(endpoint_name)\n",
        "print(\"🔗 Scoring URI:\", endpoint.scoring_uri)\n",
        "\n",
        "keys = ml_client.online_endpoints.get_keys(name=endpoint_name)\n",
        "print(\"🔐 Primary Key:\", keys.primary_key)\n"
      ],
      "outputs": [],
      "execution_count": null,
      "metadata": {}
    }
  ],
  "metadata": {
    "kernelspec": {
      "name": "python310-sdkv2",
      "language": "python",
      "display_name": "Python 3.10 - SDK v2"
    },
    "language_info": {
      "name": "python",
      "version": "3.10.18",
      "mimetype": "text/x-python",
      "codemirror_mode": {
        "name": "ipython",
        "version": 3
      },
      "pygments_lexer": "ipython3",
      "nbconvert_exporter": "python",
      "file_extension": ".py"
    },
    "microsoft": {
      "ms_spell_check": {
        "ms_spell_check_language": "en"
      },
      "host": {
        "AzureML": {
          "notebookHasBeenCompleted": true
        }
      }
    },
    "kernel_info": {
      "name": "python310-sdkv2"
    },
    "nteract": {
      "version": "nteract-front-end@1.0.0"
    }
  },
  "nbformat": 4,
  "nbformat_minor": 2
}